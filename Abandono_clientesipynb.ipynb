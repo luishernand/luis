{
  "nbformat": 4,
  "nbformat_minor": 0,
  "metadata": {
    "colab": {
      "name": "Abandono_clientesipynb",
      "provenance": [],
      "private_outputs": true,
      "collapsed_sections": [],
      "include_colab_link": true
    },
    "kernelspec": {
      "name": "python3",
      "display_name": "Python 3"
    }
  },
  "cells": [
    {
      "cell_type": "markdown",
      "metadata": {
        "id": "view-in-github",
        "colab_type": "text"
      },
      "source": [
        "<a href=\"https://colab.research.google.com/github/luishernand/luis/blob/master/Abandono_clientesipynb.ipynb\" target=\"_parent\"><img src=\"https://colab.research.google.com/assets/colab-badge.svg\" alt=\"Open In Colab\"/></a>"
      ]
    },
    {
      "cell_type": "markdown",
      "metadata": {
        "id": "lRZBrPo3INz1",
        "colab_type": "text"
      },
      "source": [
        "# Abandono de clientes \n",
        "Realizado por Luis Hernández"
      ]
    },
    {
      "cell_type": "markdown",
      "metadata": {
        "id": "CeUCM1hBKTnZ",
        "colab_type": "text"
      },
      "source": [
        "Abandono de clientes de Telco es un problema clasificación de clientes de una compañía de telefonos, si va abandonar o no."
      ]
    },
    {
      "cell_type": "markdown",
      "metadata": {
        "id": "LImxMxzCId8f",
        "colab_type": "text"
      },
      "source": [
        "### Librerias a utilizar:\n",
        "\n",
        "\n",
        "1.   pandas\n",
        "2.   nunpy\n",
        "3.   matplotlib\n",
        "4.   sklearn\n",
        "5.   seaborn\n",
        "\n"
      ]
    },
    {
      "cell_type": "code",
      "metadata": {
        "id": "qxUDkeuKIcG2",
        "colab_type": "code",
        "colab": {}
      },
      "source": [
        "import numpy as np\n",
        "import pandas as pd\n",
        "import matplotlib.pyplot as plt\n",
        "import seaborn as sns"
      ],
      "execution_count": 0,
      "outputs": []
    },
    {
      "cell_type": "markdown",
      "metadata": {
        "id": "5kPouGyHJKX2",
        "colab_type": "text"
      },
      "source": [
        "### Cargar datos al sistema"
      ]
    },
    {
      "cell_type": "code",
      "metadata": {
        "id": "4idlkbfkJPCF",
        "colab_type": "code",
        "colab": {}
      },
      "source": [
        "data = pd.read_excel('Abandono_clientes_Telco.xlsx', sheet_name= 'Abandono_clientes')"
      ],
      "execution_count": 0,
      "outputs": []
    },
    {
      "cell_type": "markdown",
      "metadata": {
        "id": "DCcuz8VKOVYt",
        "colab_type": "text"
      },
      "source": [
        "### Composición de los datos"
      ]
    },
    {
      "cell_type": "code",
      "metadata": {
        "id": "IaD956yROeCd",
        "colab_type": "code",
        "colab": {}
      },
      "source": [
        "data.shape"
      ],
      "execution_count": 0,
      "outputs": []
    },
    {
      "cell_type": "code",
      "metadata": {
        "id": "SxAftwBZOl6x",
        "colab_type": "code",
        "colab": {}
      },
      "source": [
        "data.head()"
      ],
      "execution_count": 0,
      "outputs": []
    },
    {
      "cell_type": "markdown",
      "metadata": {
        "id": "uuBq4xwON_N-",
        "colab_type": "text"
      },
      "source": [
        "##### Datos estadísticos"
      ]
    },
    {
      "cell_type": "code",
      "metadata": {
        "id": "nNoxUn21Q_Wd",
        "colab_type": "code",
        "colab": {}
      },
      "source": [
        "data.describe()"
      ],
      "execution_count": 0,
      "outputs": []
    },
    {
      "cell_type": "code",
      "metadata": {
        "id": "MYUQOfwjEH-A",
        "colab_type": "code",
        "colab": {}
      },
      "source": [
        "data.hist(figsize=(8,8))\n",
        "plt.show()"
      ],
      "execution_count": 0,
      "outputs": []
    },
    {
      "cell_type": "markdown",
      "metadata": {
        "id": "TrN18ZnjRJVz",
        "colab_type": "text"
      },
      "source": [
        "##### Correlación de los datos"
      ]
    },
    {
      "cell_type": "code",
      "metadata": {
        "id": "YY-FPhSpRPc8",
        "colab_type": "code",
        "colab": {}
      },
      "source": [
        "data.corr()"
      ],
      "execution_count": 0,
      "outputs": []
    },
    {
      "cell_type": "markdown",
      "metadata": {
        "id": "zOwoJep8SDEW",
        "colab_type": "text"
      },
      "source": [
        "#### Gráfica de la correlción de los datos"
      ]
    },
    {
      "cell_type": "code",
      "metadata": {
        "id": "znCnHduWSKq3",
        "colab_type": "code",
        "colab": {}
      },
      "source": [
        "sns.pairplot(data, size=3)"
      ],
      "execution_count": 0,
      "outputs": []
    },
    {
      "cell_type": "markdown",
      "metadata": {
        "id": "SD_D8bmLSvPa",
        "colab_type": "text"
      },
      "source": [
        "## Preparar los datos "
      ]
    },
    {
      "cell_type": "code",
      "metadata": {
        "id": "rpi6oOF3bkDk",
        "colab_type": "code",
        "colab": {}
      },
      "source": [
        "data['Genero'].replace(['Hombre', 'Mujer'],[1,0] , inplace=True)"
      ],
      "execution_count": 0,
      "outputs": []
    },
    {
      "cell_type": "code",
      "metadata": {
        "id": "1i7A8otRfKvg",
        "colab_type": "code",
        "colab": {}
      },
      "source": [
        "data[\"Casado\"].value_counts()"
      ],
      "execution_count": 0,
      "outputs": []
    },
    {
      "cell_type": "code",
      "metadata": {
        "id": "8nsnRNY43v7s",
        "colab_type": "code",
        "colab": {}
      },
      "source": [
        "data['Casado'].replace(['Si', 'No'], [1,0], inplace=True)"
      ],
      "execution_count": 0,
      "outputs": []
    },
    {
      "cell_type": "code",
      "metadata": {
        "id": "iBdxWv0swtVp",
        "colab_type": "code",
        "colab": {}
      },
      "source": [
        "data['Hijos'].replace(['Si', 'No'], [1,0], inplace=True)"
      ],
      "execution_count": 0,
      "outputs": []
    },
    {
      "cell_type": "code",
      "metadata": {
        "id": "fwk3u3MDxYJ3",
        "colab_type": "code",
        "colab": {}
      },
      "source": [
        "data['ServicioTelefono'].replace(['Si', 'No'], [1,0], inplace=True)"
      ],
      "execution_count": 0,
      "outputs": []
    },
    {
      "cell_type": "code",
      "metadata": {
        "id": "2u6GkkqvxgvI",
        "colab_type": "code",
        "colab": {}
      },
      "source": [
        "data['SeguridadOnline'].replace(['Si', 'No','Sin servicio de internet'], [1,0,2], inplace=True)"
      ],
      "execution_count": 0,
      "outputs": []
    },
    {
      "cell_type": "code",
      "metadata": {
        "id": "4XC3Q-b0xzAW",
        "colab_type": "code",
        "colab": {}
      },
      "source": [
        "data['OnlineBackup'].replace(['Si', 'No','Sin servicio de internet'], [1,0,2], inplace=True)\n",
        "data['ProteccionDispositivo'].replace(['Si', 'No', 'Sin servicio de internet'], [1,0,2], inplace=True)\n",
        "data['SoporteTecnico'].replace(['Si', 'No', 'Sin servicio de internet'], [1,0,2], inplace=True)\n",
        "data['StreamingTV'].replace(['Si', 'No','Sin servicio de internet'], [1,0,2], inplace=True)\n",
        "data['StreamingMovies'].replace(['Si', 'No', 'Sin servicio de internet'], [1,0,2], inplace=True)\n",
        "data['FacturaElectronica'].replace(['Si', 'No'], [1,0], inplace=True)\n",
        "data['Abandono'].replace(['Si', 'No'], [1,0], inplace=True)"
      ],
      "execution_count": 0,
      "outputs": []
    },
    {
      "cell_type": "code",
      "metadata": {
        "id": "cgApEwr705Ra",
        "colab_type": "code",
        "colab": {}
      },
      "source": [
        "data.head()"
      ],
      "execution_count": 0,
      "outputs": []
    },
    {
      "cell_type": "code",
      "metadata": {
        "id": "QczJvH4d-zdL",
        "colab_type": "code",
        "colab": {}
      },
      "source": [
        "data.shape"
      ],
      "execution_count": 0,
      "outputs": []
    },
    {
      "cell_type": "code",
      "metadata": {
        "id": "3ApMWTYvACNb",
        "colab_type": "code",
        "colab": {}
      },
      "source": [
        ""
      ],
      "execution_count": 0,
      "outputs": []
    },
    {
      "cell_type": "markdown",
      "metadata": {
        "id": "QM43nR55uZjd",
        "colab_type": "text"
      },
      "source": [
        "### Definir las variables(X,y)"
      ]
    },
    {
      "cell_type": "code",
      "metadata": {
        "id": "57wqYkqmtqp4",
        "colab_type": "code",
        "colab": {}
      },
      "source": [
        "a = data.drop(['Contrato','MultiplesLineas', 'ID','ServicioInternet','MetodoPago', 'Abandono','CuotaTotal'], axis=1)\n",
        "X= a.loc[: : ].values\n",
        "y= data['Abandono'].values\n",
        "X.shape, y.shape"
      ],
      "execution_count": 0,
      "outputs": []
    },
    {
      "cell_type": "markdown",
      "metadata": {
        "id": "Tvt9frIQxQhc",
        "colab_type": "text"
      },
      "source": [
        "### Estandarización"
      ]
    },
    {
      "cell_type": "code",
      "metadata": {
        "id": "CymwYpZhxX3b",
        "colab_type": "code",
        "colab": {}
      },
      "source": [
        "from sklearn.preprocessing import StandardScaler\n",
        "sc= StandardScaler()\n",
        "X_sc= sc.fit_transform(X)"
      ],
      "execution_count": 0,
      "outputs": []
    },
    {
      "cell_type": "markdown",
      "metadata": {
        "id": "lhRawra1vly7",
        "colab_type": "text"
      },
      "source": [
        "### Dividir Los datos de entrenamiento"
      ]
    },
    {
      "cell_type": "code",
      "metadata": {
        "id": "RT6VDJOmvqP1",
        "colab_type": "code",
        "colab": {}
      },
      "source": [
        "from sklearn.model_selection import train_test_split\n",
        "X_train, X_test, y_train, y_test = train_test_split(X, y, test_size= 0.25, random_state=1, stratify=y)"
      ],
      "execution_count": 0,
      "outputs": []
    },
    {
      "cell_type": "markdown",
      "metadata": {
        "id": "8shNuDRJv9MT",
        "colab_type": "text"
      },
      "source": [
        "## Modelo de RL\n",
        "\n",
        "\n",
        "*   Fit\n",
        "*   Preddict\n",
        "*   Evaución\n"
      ]
    },
    {
      "cell_type": "code",
      "metadata": {
        "id": "iI-dwZhwwOJm",
        "colab_type": "code",
        "colab": {}
      },
      "source": [
        "from sklearn.linear_model import LogisticRegression\n",
        "lr= LogisticRegression()\n",
        "lr.fit(X_train, y_train)"
      ],
      "execution_count": 0,
      "outputs": []
    },
    {
      "cell_type": "code",
      "metadata": {
        "id": "yp4Fm4mDQXes",
        "colab_type": "code",
        "colab": {}
      },
      "source": [
        "y_pred= lr.predict(X_test)\n",
        "comp=pd.DataFrame({'Datos': y_test, 'Predicciones':y_pred})\n",
        "comp.head()"
      ],
      "execution_count": 0,
      "outputs": []
    },
    {
      "cell_type": "code",
      "metadata": {
        "id": "PdO-lOHORBjH",
        "colab_type": "code",
        "colab": {}
      },
      "source": [
        "from sklearn.metrics import confusion_matrix, classification_report, roc_auc_score\n",
        "mtx= confusion_matrix(y_test, y_pred)\n",
        "cl=classification_report(y_test, y_pred)\n",
        "roc=roc_auc_score(y_test, y_pred)\n",
        "roc"
      ],
      "execution_count": 0,
      "outputs": []
    },
    {
      "cell_type": "code",
      "metadata": {
        "id": "juIKHnKlRgZZ",
        "colab_type": "code",
        "colab": {}
      },
      "source": [
        "print(cl)"
      ],
      "execution_count": 0,
      "outputs": []
    },
    {
      "cell_type": "code",
      "metadata": {
        "id": "i2JYhmzcSZzG",
        "colab_type": "code",
        "colab": {}
      },
      "source": [
        "mtx"
      ],
      "execution_count": 0,
      "outputs": []
    },
    {
      "cell_type": "markdown",
      "metadata": {
        "id": "CtN2ER2_Sdlv",
        "colab_type": "text"
      },
      "source": [
        "#####  DecisionTreeClasifier"
      ]
    },
    {
      "cell_type": "code",
      "metadata": {
        "id": "4ePg0Q8LSoPh",
        "colab_type": "code",
        "colab": {}
      },
      "source": [
        "from sklearn.tree import DecisionTreeClassifier"
      ],
      "execution_count": 0,
      "outputs": []
    },
    {
      "cell_type": "code",
      "metadata": {
        "id": "9rlrUjWHS0wo",
        "colab_type": "code",
        "colab": {}
      },
      "source": [
        "tr= DecisionTreeClassifier(criterion='entropy',splitter='random', max_depth=5,max_leaf_nodes=10)\n",
        "tr.fit(X_train, y_train)"
      ],
      "execution_count": 0,
      "outputs": []
    },
    {
      "cell_type": "code",
      "metadata": {
        "id": "W166A6VLTkBW",
        "colab_type": "code",
        "colab": {}
      },
      "source": [
        "from sklearn import tree\n",
        "tree.plot_tree(tr)"
      ],
      "execution_count": 0,
      "outputs": []
    },
    {
      "cell_type": "code",
      "metadata": {
        "id": "fUPEAJi3S-4o",
        "colab_type": "code",
        "colab": {}
      },
      "source": [
        "y_pred= tr.predict(X_test)\n",
        "comp=pd.DataFrame({'Datos': y_test, 'Predicciones':y_pred})\n",
        "comp.head()"
      ],
      "execution_count": 0,
      "outputs": []
    },
    {
      "cell_type": "code",
      "metadata": {
        "id": "D8gk83FwTYaa",
        "colab_type": "code",
        "colab": {}
      },
      "source": [
        "mtx= confusion_matrix(y_test, y_pred)\n",
        "cl=classification_report(y_test, y_pred)\n",
        "roc=roc_auc_score(y_test, y_pred)\n",
        "roc"
      ],
      "execution_count": 0,
      "outputs": []
    },
    {
      "cell_type": "code",
      "metadata": {
        "id": "Z9sMsXt6UDM1",
        "colab_type": "code",
        "colab": {}
      },
      "source": [
        "print(cl)"
      ],
      "execution_count": 0,
      "outputs": []
    },
    {
      "cell_type": "code",
      "metadata": {
        "id": "4egHyZODUHHn",
        "colab_type": "code",
        "colab": {}
      },
      "source": [
        "mtx"
      ],
      "execution_count": 0,
      "outputs": []
    },
    {
      "cell_type": "markdown",
      "metadata": {
        "id": "TRB3QfMSZlN7",
        "colab_type": "text"
      },
      "source": [
        "### Radom Forest"
      ]
    },
    {
      "cell_type": "code",
      "metadata": {
        "id": "bDDFw2lPZpPr",
        "colab_type": "code",
        "colab": {}
      },
      "source": [
        "from sklearn.ensemble import RandomForestClassifier"
      ],
      "execution_count": 0,
      "outputs": []
    },
    {
      "cell_type": "code",
      "metadata": {
        "id": "huXzE8qpZyWV",
        "colab_type": "code",
        "colab": {}
      },
      "source": [
        "rf= RandomForestClassifier(n_estimators=200,  max_leaf_nodes=7)\n",
        "rf.fit(X_train, y_train)"
      ],
      "execution_count": 0,
      "outputs": []
    },
    {
      "cell_type": "code",
      "metadata": {
        "id": "6v8V1DoaZ6jd",
        "colab_type": "code",
        "colab": {}
      },
      "source": [
        "y_pred= rf.predict(X_test)\n",
        "comp=pd.DataFrame({'Datos': y_test, 'Predicciones':y_pred})\n",
        "comp.head()"
      ],
      "execution_count": 0,
      "outputs": []
    },
    {
      "cell_type": "code",
      "metadata": {
        "id": "xwAA2cTtaAkW",
        "colab_type": "code",
        "colab": {}
      },
      "source": [
        "mtx= confusion_matrix(y_test, y_pred)\n",
        "cl=classification_report(y_test, y_pred)\n",
        "roc=roc_auc_score(y_test, y_pred)\n",
        "roc"
      ],
      "execution_count": 0,
      "outputs": []
    },
    {
      "cell_type": "code",
      "metadata": {
        "id": "0gqffxuuaIhu",
        "colab_type": "code",
        "colab": {}
      },
      "source": [
        "mtx"
      ],
      "execution_count": 0,
      "outputs": []
    },
    {
      "cell_type": "code",
      "metadata": {
        "id": "ipJ0FFVdbHJi",
        "colab_type": "code",
        "colab": {}
      },
      "source": [
        "print(cl)"
      ],
      "execution_count": 0,
      "outputs": []
    },
    {
      "cell_type": "markdown",
      "metadata": {
        "id": "Lm-WsOKfd9w9",
        "colab_type": "text"
      },
      "source": [
        "#### SVM"
      ]
    },
    {
      "cell_type": "code",
      "metadata": {
        "id": "fa02dMoMd8uq",
        "colab_type": "code",
        "colab": {}
      },
      "source": [
        "from sklearn.svm import SVC"
      ],
      "execution_count": 0,
      "outputs": []
    },
    {
      "cell_type": "code",
      "metadata": {
        "id": "-fjb5x6MeHNm",
        "colab_type": "code",
        "colab": {}
      },
      "source": [
        "sv= SVC()\n",
        "sv.fit(X_train, y_train)"
      ],
      "execution_count": 0,
      "outputs": []
    },
    {
      "cell_type": "code",
      "metadata": {
        "id": "s-KokSSCeS96",
        "colab_type": "code",
        "colab": {}
      },
      "source": [
        "y_pred= sv.predict(X_test)\n",
        "comp=pd.DataFrame({'Datos': y_test, 'Predicciones':y_pred})\n",
        "comp.head()"
      ],
      "execution_count": 0,
      "outputs": []
    },
    {
      "cell_type": "code",
      "metadata": {
        "id": "-mkZOVYzefJ3",
        "colab_type": "code",
        "colab": {}
      },
      "source": [
        "mtx= confusion_matrix(y_test, y_pred)\n",
        "cl=classification_report(y_test, y_pred)\n",
        "roc=roc_auc_score(y_test, y_pred)\n",
        "roc"
      ],
      "execution_count": 0,
      "outputs": []
    },
    {
      "cell_type": "code",
      "metadata": {
        "id": "uRK_66ZGeg5X",
        "colab_type": "code",
        "colab": {}
      },
      "source": [
        "mtx"
      ],
      "execution_count": 0,
      "outputs": []
    },
    {
      "cell_type": "code",
      "metadata": {
        "id": "ZJilH_L7eihG",
        "colab_type": "code",
        "colab": {}
      },
      "source": [
        "print(cl)"
      ],
      "execution_count": 0,
      "outputs": []
    },
    {
      "cell_type": "markdown",
      "metadata": {
        "id": "ituY8GN3esc_",
        "colab_type": "text"
      },
      "source": [
        "### KNN"
      ]
    },
    {
      "cell_type": "code",
      "metadata": {
        "id": "cn-W_WD2ewSj",
        "colab_type": "code",
        "colab": {}
      },
      "source": [
        "from sklearn.neighbors import KNeighborsClassifier"
      ],
      "execution_count": 0,
      "outputs": []
    },
    {
      "cell_type": "code",
      "metadata": {
        "id": "OcZbzybIe2OR",
        "colab_type": "code",
        "colab": {}
      },
      "source": [
        "knn_7= KNeighborsClassifier(n_neighbors=7)\n",
        "knn_15= KNeighborsClassifier(n_neighbors=15)\n",
        "knn_21= KNeighborsClassifier(n_neighbors=21)"
      ],
      "execution_count": 0,
      "outputs": []
    },
    {
      "cell_type": "code",
      "metadata": {
        "id": "uzbyaMjIfRg5",
        "colab_type": "code",
        "colab": {}
      },
      "source": [
        "#Entrenamiento\n",
        "knn_7.fit(X_train, y_train)\n",
        "knn_15.fit(X_train, y_train)\n",
        "knn_21.fit(X_train, y_train)"
      ],
      "execution_count": 0,
      "outputs": []
    },
    {
      "cell_type": "code",
      "metadata": {
        "id": "6BMI8fJKff_R",
        "colab_type": "code",
        "colab": {}
      },
      "source": [
        "#predicciones\n",
        "y_7= knn_7.predict(X_test)\n",
        "y_15= knn_15.predict(X_test)\n",
        "y_21= knn_21.predict(X_test)"
      ],
      "execution_count": 0,
      "outputs": []
    },
    {
      "cell_type": "code",
      "metadata": {
        "id": "C1LgqLZ5f4qv",
        "colab_type": "code",
        "colab": {}
      },
      "source": [
        "#Evaluacroc\n",
        "cl_7= classification_report(y_test, y_7)\n",
        "cl_15= classification_report(y_test, y_15)\n",
        "cl_21= classification_report(y_test, y_15)\n",
        "print(cl_21)"
      ],
      "execution_count": 0,
      "outputs": []
    },
    {
      "cell_type": "code",
      "metadata": {
        "id": "yzNG8oNXgjt8",
        "colab_type": "code",
        "colab": {}
      },
      "source": [
        "mtx_21 = confusion_matrix(y_test, y_21)\n",
        "mtx_21"
      ],
      "execution_count": 0,
      "outputs": []
    },
    {
      "cell_type": "markdown",
      "metadata": {
        "id": "aDtMzfwgzYa5",
        "colab_type": "text"
      },
      "source": [
        "### modelo xgboost"
      ]
    },
    {
      "cell_type": "code",
      "metadata": {
        "id": "w7Hxw-SUwhmY",
        "colab_type": "code",
        "colab": {}
      },
      "source": [
        "import xgboost"
      ],
      "execution_count": 0,
      "outputs": []
    },
    {
      "cell_type": "code",
      "metadata": {
        "id": "skuZWfvSwqGc",
        "colab_type": "code",
        "colab": {}
      },
      "source": [
        "xg= xgboost.XGBClassifier(n_estimators=200, learning_rate=0.05)\n",
        "xg.fit(X_train, y_train)"
      ],
      "execution_count": 0,
      "outputs": []
    },
    {
      "cell_type": "code",
      "metadata": {
        "id": "GFbvbWd8yCJe",
        "colab_type": "code",
        "colab": {}
      },
      "source": [
        "y_pred= sv.predict(X_test)\n",
        "comp=pd.DataFrame({'Datos': y_test, 'Predicciones':y_pred})\n",
        "comp.head()"
      ],
      "execution_count": 0,
      "outputs": []
    },
    {
      "cell_type": "code",
      "metadata": {
        "id": "KXC1fd_YyPNa",
        "colab_type": "code",
        "colab": {}
      },
      "source": [
        "mtx= confusion_matrix(y_test, y_pred)\n",
        "cl=classification_report(y_test, y_pred)\n",
        "roc=roc_auc_score(y_test, y_pred)\n",
        "roc"
      ],
      "execution_count": 0,
      "outputs": []
    },
    {
      "cell_type": "code",
      "metadata": {
        "id": "JKwE-Q3VySBj",
        "colab_type": "code",
        "colab": {}
      },
      "source": [
        "print(cl)"
      ],
      "execution_count": 0,
      "outputs": []
    },
    {
      "cell_type": "code",
      "metadata": {
        "id": "g3Oy_ZJLzFgF",
        "colab_type": "code",
        "colab": {}
      },
      "source": [
        "mtx"
      ],
      "execution_count": 0,
      "outputs": []
    },
    {
      "cell_type": "markdown",
      "metadata": {
        "id": "25oekj7MzeNz",
        "colab_type": "text"
      },
      "source": [
        "# Escogencia del Modelo:\n",
        "\n",
        "tenemos dos modelos con los mejores score son SVC y el xgboost, ambos con un 80% de f1 y un 78% de presición.\n",
        "\n",
        "También tienen los mismos resultados en la mátriz de confusión con 275 falsos positivos y 86 falsos negativos"
      ]
    },
    {
      "cell_type": "markdown",
      "metadata": {
        "id": "dLmI6mnG0uG3",
        "colab_type": "text"
      },
      "source": [
        "## Evaluar Archivo ententrante de cual es la posibilidad de abandono"
      ]
    },
    {
      "cell_type": "code",
      "metadata": {
        "id": "G7FIL0iY0LXg",
        "colab_type": "code",
        "colab": {}
      },
      "source": [
        "# Cargamos datos nuevos\n",
        "datos= pd.read_excel('Abandono _prueba.xlsx', sheet_name= 'Abandono_clientes')\n",
        "datos.head()"
      ],
      "execution_count": 0,
      "outputs": []
    },
    {
      "cell_type": "code",
      "metadata": {
        "id": "a0eobbYo2GCj",
        "colab_type": "code",
        "colab": {}
      },
      "source": [
        "datos['Casado'].replace(['Si', 'No'], [1,0], inplace=True)\n",
        "datos['Hijos'].replace(['Si', 'No'], [1,0], inplace=True)\n",
        "datos['ServicioTelefono'].replace(['Si', 'No'], [1,0], inplace=True)\n",
        "datos['SeguridadOnline'].replace(['Si', 'No','Sin servicio de internet'], [1,0,2], inplace=True)"
      ],
      "execution_count": 0,
      "outputs": []
    },
    {
      "cell_type": "code",
      "metadata": {
        "id": "MM2GBVeV2F00",
        "colab_type": "code",
        "colab": {}
      },
      "source": [
        "datos['OnlineBackup'].replace(['Si', 'No','Sin servicio de internet'], [1,0,2], inplace=True)\n",
        "datos['ProteccionDispositivo'].replace(['Si', 'No', 'Sin servicio de internet'], [1,0,2], inplace=True)\n",
        "datos['SoporteTecnico'].replace(['Si', 'No', 'Sin servicio de internet'], [1,0,2], inplace=True)\n",
        "datos['StreamingTV'].replace(['Si', 'No','Sin servicio de internet'], [1,0,2], inplace=True)\n",
        "datos['StreamingMovies'].replace(['Si', 'No', 'Sin servicio de internet'], [1,0,2], inplace=True)\n",
        "datos['FacturaElectronica'].replace(['Si', 'No'], [1,0], inplace=True)"
      ],
      "execution_count": 0,
      "outputs": []
    },
    {
      "cell_type": "code",
      "metadata": {
        "id": "O-C3833S45Ud",
        "colab_type": "code",
        "colab": {}
      },
      "source": [
        "datos['Genero'].replace(['Hombre', 'Mujer'], [1,0], inplace=True)"
      ],
      "execution_count": 0,
      "outputs": []
    },
    {
      "cell_type": "code",
      "metadata": {
        "id": "26d8Ga1S2GLi",
        "colab_type": "code",
        "colab": {}
      },
      "source": [
        "# separamos a X\n",
        "a = datos.drop(['Contrato','MultiplesLineas', 'ID','ServicioInternet','MetodoPago', 'Abandono','CuotaTotal'], axis=1)\n",
        "X= a.loc[::].values\n",
        "X"
      ],
      "execution_count": 0,
      "outputs": []
    },
    {
      "cell_type": "code",
      "metadata": {
        "id": "AHir2Qgs4q5b",
        "colab_type": "code",
        "colab": {}
      },
      "source": [
        "# estandarizar\n",
        "le= StandardScaler()\n",
        "X_test= le.fit_transform(X)"
      ],
      "execution_count": 0,
      "outputs": []
    },
    {
      "cell_type": "markdown",
      "metadata": {
        "id": "zmMeYTpY5TwI",
        "colab_type": "text"
      },
      "source": [
        "##### Predicciones y Resultados de Posibles Abandono"
      ]
    },
    {
      "cell_type": "code",
      "metadata": {
        "id": "ezmQfE2R5Lie",
        "colab_type": "code",
        "colab": {}
      },
      "source": [
        "y_pred = xg.predict(X_test)"
      ],
      "execution_count": 0,
      "outputs": []
    },
    {
      "cell_type": "code",
      "metadata": {
        "id": "NlRaq5vIBUxC",
        "colab_type": "code",
        "colab": {}
      },
      "source": [
        "y_pred= np.where(y_pred==1, \"Si\", \"No\")\n",
        "datos['Genero'].replace([1, 0], [\"Hombre\",\"Mujer\"], inplace=True)"
      ],
      "execution_count": 0,
      "outputs": []
    },
    {
      "cell_type": "code",
      "metadata": {
        "id": "cbQlrGs39tAP",
        "colab_type": "code",
        "colab": {}
      },
      "source": [
        "resultado= pd.DataFrame({'ID': datos['ID'], 'Genero': datos['Genero'],'CoutaMensual': datos['CuotaMensual']\n",
        "                         , 'Resultado_abandono': y_pred})\n",
        "resultado"
      ],
      "execution_count": 0,
      "outputs": []
    }
  ]
}